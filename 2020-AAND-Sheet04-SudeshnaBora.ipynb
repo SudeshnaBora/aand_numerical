{
 "cells": [
  {
   "cell_type": "markdown",
   "metadata": {},
   "source": [
    "### General rules:\n",
    " * For all figures that you generate, remember to add meaningful labels to the axes (including units), and provide a legend and colorbar, if applicable.\n",
    " * Do not hard code constants, like number of samples, number of channels, etc in your program. These values should always be determined from the given data. This way, you can easily use the code to analyse other data sets.\n",
    " * Do not use high-level functions from toolboxes like scikit-learn.\n",
    " * Before submitting, check your code by executing: Kernel -> Restart & run all.\n",
    " * Replace *Template* by your *FirstnameLastname* in the filename."
   ]
  },
  {
   "cell_type": "markdown",
   "metadata": {},
   "source": [
    "# AAND BCI - Exercise Sheet #04"
   ]
  },
  {
   "cell_type": "markdown",
   "metadata": {},
   "source": [
    "#### Name: Sudeshna Bora"
   ]
  },
  {
   "cell_type": "code",
   "execution_count": 1,
   "metadata": {},
   "outputs": [],
   "source": [
    "%matplotlib inline\n",
    "\n",
    "import numpy as np\n",
    "import scipy as sp\n",
    "from matplotlib import pyplot as plt\n",
    "\n",
    "import bci_minitoolbox as bci\n",
    "import bci_classifiers as cfy"
   ]
  },
  {
   "cell_type": "markdown",
   "metadata": {},
   "source": [
    "## Exercise 1: Implementation of Shrinkage for Covariance Estimation  (4 points)\n",
    "Implement a function `cov_shrink` that estimates the covariance matrix of data using shrinkage with the analytic method of determining the shrinkage coefficient as presented in the lecture. Input and output of that function should be as in the function `numpy.cov`.\n",
    "\n",
    "If you cannot succeed with this task, you may import the function `cov_shrink` from `bci_helper_sheet4.pyc` (available at the moodle page) for the subsequent exercises."
   ]
  },
  {
   "cell_type": "code",
   "execution_count": 2,
   "metadata": {},
   "outputs": [],
   "source": [
    "def cov_shrink(X):\n",
    "    '''\n",
    "    Estimate covariance of given data using shrinkage estimator.\n",
    "    \n",
    "    Synopsis:\n",
    "        C= cov_shrink(X)\n",
    "    Argument:\n",
    "        X: data matrix (features x samples)\n",
    "    Output:\n",
    "        C: estimated covariance matrix\n",
    "    '''\n",
    "\n",
    "    # find the empirical mean\n",
    "    mu = np.mean(X,axis=0)\n",
    "    \n",
    "    sum_X = 0.0\n",
    "    K = X.shape[0]\n",
    "    for i in range(K):\n",
    "        sum_X += np.var(np.outer(X[i]-mu, (X[i]-mu).T))\n",
    "        \n",
    "    trace_norm = np.trace(np.cov(X)) / K\n",
    "    m = np.cov(X) - trace_norm * np.eye(np.cov(X).shape[0])\n",
    "    \n",
    "    sum_r = np.sum(np.power(m,2))\n",
    "    \n",
    "    gamma_asterisk = (K / (K-1)**2) * sum_X / sum_r \n",
    "      \n",
    "    S_star = (1-gamma_asterisk) * np.cov(X) + gamma_asterisk * trace_norm * np.eye(np.cov(X).shape[0])\n",
    "    \n",
    "    return S_star"
   ]
  },
  {
   "cell_type": "markdown",
   "metadata": {},
   "source": [
    "## Exercise 2: Implementation of LDA with Shrinkage  (2 point)\n",
    "Implement a function `train_LDAshrink` that calculates the LDA classifier in which the estimation of the covariance matrices is enhanced by shrinkage. Input and output should be the same as for `train_LDA` from sheet \\#03. As for LDA, use the pseudo inverse (`numpy.linalg.pinv`) instead of the usual matrix inversion. \n",
    "\n",
    "If you cannot succeed with this task, you may import the function `train_LDAshrink` from `bci_cheat_sheet4.pyc` (available at the moodle page) for the subsequent exercises."
   ]
  },
  {
   "cell_type": "code",
   "execution_count": 3,
   "metadata": {},
   "outputs": [],
   "source": [
    "def train_LDAshrink(X, y):\n",
    "    '''\n",
    "    Synopsis:\n",
    "        w, b= train_LDAshrink(X, y)\n",
    "    Arguments:\n",
    "        X: data matrix (features X samples)\n",
    "        y: labels with values 0 and 1 (1 x samples)\n",
    "    Output:\n",
    "        w: LDA weight vector\n",
    "        b: bias term\n",
    "    '''\n",
    "    mu_0 = np.mean(X[:, y == 0], axis=1)\n",
    "    mu_1 = np.mean(X[:, y == 1], axis=1)\n",
    "\n",
    "    cov_0 = cov_shrink(X[:, y == 0])\n",
    "    cov_1 = cov_shrink(X[:, y == 1])\n",
    "\n",
    "    cov_sum = (cov_0+cov_1)/2\n",
    "\n",
    "    w = np.linalg.inv(cov_sum).dot(mu_1-mu_0)\n",
    "    b = w.T@(mu_0+mu_1)/2\n",
    "\n",
    "    return w, b"
   ]
  },
  {
   "cell_type": "markdown",
   "metadata": {},
   "source": [
    "## Preparation: Load data"
   ]
  },
  {
   "cell_type": "code",
   "execution_count": 4,
   "metadata": {},
   "outputs": [],
   "source": [
    "fname = 'erp_hexVPsag.npz'\n",
    "cnt, fs, clab, mnt, mrk_pos, mrk_class, mrk_className = bci.load_data(fname)"
   ]
  },
  {
   "cell_type": "markdown",
   "metadata": {},
   "source": [
    "## Exercise 3: Classification of Spatio-Temporal Features  (4 points)\n",
    "First, use the time-averaged potential in each of the intervals [ms]: 160-200, 200-220, 230-260, 260-290, 300-320, 330-370, 380-430, and 480-520 as feature vector (dimension 55 `x` 1) for each trial. For each interval calculate the 3-fold cross-validation error using LDA with and without shrinkage.\n",
    "\n",
    "In a second step, concatenate the eight feature vectors, that were calcualted for the eight specified intervals into one feature vector (dimension 440 `x` 1) for each trial. Again, determine the 3-fold cross-validation error using LDA with and without shrinkage."
   ]
  },
  {
   "cell_type": "code",
   "execution_count": 5,
   "metadata": {},
   "outputs": [],
   "source": [
    "ival = [[160, 200], [200, 220], [230, 260], [260, 290], [300, 320], [330, 370], [380, 430], [480, 520]]"
   ]
  },
  {
   "cell_type": "markdown",
   "metadata": {},
   "source": [
    "#### Part 1"
   ]
  },
  {
   "cell_type": "code",
   "execution_count": 6,
   "metadata": {},
   "outputs": [
    {
     "data": {
      "image/png": "[encoded data removed]",
      "text/plain": [
       "<Figure size 432x288 with 1 Axes>"
      ]
     },
     "metadata": {
      "needs_background": "light"
     },
     "output_type": "display_data"
    }
   ],
   "source": [
    "n_ival = len(ival)\n",
    "\n",
    "error_lda = np.zeros(n_ival)\n",
    "error_lda_shrink = np.zeros(n_ival)\n",
    "concatenate_list = []\n",
    "\n",
    "for i in range(n_ival):\n",
    "    epo, epo_t = bci.makeepochs(cnt, fs, mrk_pos, ival[i])\n",
    "    epo = np.mean(epo,axis=0)\n",
    "    concatenate_list.extend(epo)\n",
    "    \n",
    "    error_lda_shrink[i] , error_t_shrink = cfy.crossvalidation(train_LDAshrink,epo,mrk_class, folds=3, verbose=False)\n",
    "    error_lda[i] ,error_t = cfy.crossvalidation(cfy.train_LDA,epo,mrk_class, folds=3, verbose=False)\n",
    "    \n",
    "plt.figure()\n",
    "plt.plot(np.arange(n_ival), error_lda_shrink, label = \"Errors with shrinkage\")\n",
    "plt.plot(np.arange(n_ival), error_lda, label = \"Errors without shrinkage\")\n",
    "plt.xlabel(\"Interval\")\n",
    "plt.ylabel(\"Training error\")\n",
    "plt.legend()\n",
    "plt.show()"
   ]
  },
  {
   "cell_type": "markdown",
   "metadata": {},
   "source": [
    "#### Part 2"
   ]
  },
  {
   "cell_type": "code",
   "execution_count": 7,
   "metadata": {},
   "outputs": [
    {
     "name": "stdout",
     "output_type": "stream",
     "text": [
      "\n",
      "LDA without shrink test error:  25.976527323086156\n",
      "LDA with shrink test error:  25.03260338612689\n"
     ]
    }
   ],
   "source": [
    "concatenate_list = np.array(concatenate_list)\n",
    "\n",
    "concatenate_error_lda_shrink, _ = cfy.crossvalidation(\n",
    "    train_LDAshrink, concatenate_list, mrk_class, folds=3, verbose=False)\n",
    "concatenate_error_lda, _ = cfy.crossvalidation(\n",
    "    cfy.train_LDA, concatenate_list, mrk_class, folds=3, verbose=False)\n",
    "\n",
    "print(\"\\nLDA without shrink test error: \", concatenate_error_lda)\n",
    "print(\"LDA with shrink test error: \", concatenate_error_lda_shrink)"
   ]
  }
 ],
 "metadata": {
  "kernelspec": {
   "display_name": "Python 3",
   "language": "python",
   "name": "python3"
  },
  "language_info": {
   "codemirror_mode": {
    "name": "ipython",
    "version": 3
   },
   "file_extension": ".py",
   "mimetype": "text/x-python",
   "name": "python",
   "nbconvert_exporter": "python",
   "pygments_lexer": "ipython3",
   "version": "3.7.4"
  },
  "toc": {
   "base_numbering": 1,
   "nav_menu": {},
   "number_sections": true,
   "sideBar": true,
   "skip_h1_title": false,
   "title_cell": "Table of Contents",
   "title_sidebar": "Contents",
   "toc_cell": false,
   "toc_position": {},
   "toc_section_display": true,
   "toc_window_display": false
  },
  "varInspector": {
   "cols": {
    "lenName": 16,
    "lenType": 16,
    "lenVar": 40
   },
   "kernels_config": {
    "python": {
     "delete_cmd_postfix": "",
     "delete_cmd_prefix": "del ",
     "library": "var_list.py",
     "varRefreshCmd": "print(var_dic_list())"
    },
    "r": {
     "delete_cmd_postfix": ") ",
     "delete_cmd_prefix": "rm(",
     "library": "var_list.r",
     "varRefreshCmd": "cat(var_dic_list()) "
    }
   },
   "types_to_exclude": [
    "module",
    "function",
    "builtin_function_or_method",
    "instance",
    "_Feature"
   ],
   "window_display": false
  }
 },
 "nbformat": 4,
 "nbformat_minor": 1
}
