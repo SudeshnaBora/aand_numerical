{
  "nbformat": 4,
  "nbformat_minor": 0,
  "metadata": {
    "colab": {
      "name": "AAND_Assignment02.ipynb",
      "provenance": [],
      "authorship_tag": "ABX9TyNA4x5f4DN5dOWtYPWhB1sc",
      "include_colab_link": true
    },
    "kernelspec": {
      "name": "python3",
      "display_name": "Python 3"
    }
  },
  "cells": [
    {
      "cell_type": "markdown",
      "metadata": {
        "id": "view-in-github",
        "colab_type": "text"
      },
      "source": [
        "<a href=\"https://colab.research.google.com/github/SudeshnaBora/aand_numerical/blob/master/AAND_Assignment02.ipynb\" target=\"_parent\"><img src=\"https://colab.research.google.com/assets/colab-badge.svg\" alt=\"Open In Colab\"/></a>"
      ]
    },
    {
      "cell_type": "markdown",
      "metadata": {
        "id": "z5rqhbV64vDp",
        "colab_type": "text"
      },
      "source": [
        "<b>Name:</b> Sudeshna Bora\n",
        "\n",
        "<b> Assignment:</b> 02 \n",
        "\n",
        "<b> Time Taken:</b> "
      ]
    },
    {
      "cell_type": "code",
      "metadata": {
        "id": "UQhbbJQA5Bm6",
        "colab_type": "code",
        "colab": {}
      },
      "source": [
        "import numpy as np\n",
        "import matplotlib.pyplot as plt\n"
      ],
      "execution_count": 0,
      "outputs": []
    },
    {
      "cell_type": "code",
      "metadata": {
        "id": "zmTF8WnL6_nn",
        "colab_type": "code",
        "colab": {
          "base_uri": "https://localhost:8080/",
          "height": 34
        },
        "outputId": "a3f7db96-ed99-4ff2-8403-e40ddf9596f2"
      },
      "source": [
        "spike_times_array = np.loadtxt('SpikeTimes.dat')\n",
        "spike_times_array.shape\n"
      ],
      "execution_count": 2,
      "outputs": [
        {
          "output_type": "execute_result",
          "data": {
            "text/plain": [
              "(100, 100)"
            ]
          },
          "metadata": {
            "tags": []
          },
          "execution_count": 2
        }
      ]
    },
    {
      "cell_type": "markdown",
      "metadata": {
        "id": "Ozim6j6IEfd0",
        "colab_type": "text"
      },
      "source": [
        "spike_times_array is an MXN matrix where M is the spike time index and N is trials. "
      ]
    },
    {
      "cell_type": "code",
      "metadata": {
        "id": "SjKtC4es_qBY",
        "colab_type": "code",
        "colab": {
          "base_uri": "https://localhost:8080/",
          "height": 295
        },
        "outputId": "deaaf956-f4e9-47df-a2df-4cd9d19b5cca"
      },
      "source": [
        "#Transpose the matrix into NXM so that each row represents each trials\n",
        "spike_times_records = spike_times_array.T\n",
        "\n",
        "\n",
        "eventRecord = list() #Store the spike_train individual trial records without nan\n",
        "lineoffset = 1\n",
        "offset = .0002\n",
        "for i in range(100):\n",
        "  x = spike_times_records[i,:]\n",
        "  x = x[~np.isnan(x)]\n",
        "  eventRecord.append(x)\n",
        "  plt.eventplot(x*10**-3, colors='black', lineoffsets=lineoffset,linelengths=0.0001)\n",
        "  lineoffset = lineoffset+offset\n",
        "plt.yticks([])\n",
        "plt.title('Raster plot for 100 trials')\n",
        "plt.xlabel('time (in sec)')\n",
        "plt.ylabel('Trial')\n",
        "plt.show()\n"
      ],
      "execution_count": 4,
      "outputs": [
        {
          "output_type": "display_data",
          "data": {
            "image/png": "[encoded data removed]",
            "text/plain": [
              "<Figure size 432x288 with 1 Axes>"
            ]
          },
          "metadata": {
            "tags": [],
            "needs_background": "light"
          }
        }
      ]
    }
  ]
}